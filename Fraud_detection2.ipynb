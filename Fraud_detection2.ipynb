{
  "nbformat": 4,
  "nbformat_minor": 0,
  "metadata": {
    "colab": {
      "name": "Fraud_detection2.ipynb",
      "provenance": [],
      "collapsed_sections": [],
      "toc_visible": true
    },
    "kernelspec": {
      "name": "python3",
      "display_name": "Python 3"
    },
    "accelerator": "GPU"
  },
  "cells": [
    {
      "cell_type": "code",
      "metadata": {
        "id": "Z6N-h1FuC4yN",
        "colab_type": "code",
        "colab": {}
      },
      "source": [
        "import numpy as np # for Linear Algebra\n",
        "import pandas as pd # for procesing data - import csv file and manipulate data\n",
        "import matplotlib.pyplot as plt # for visual representation of data\n",
        "import sklearn as sk # \n",
        "import seaborn as sns # for interactive graphs\n",
        "import datetime # for date and time\n",
        "import random\n",
        "from sklearn.preprocessing import scale\n",
        "%matplotlib inline\n"
      ],
      "execution_count": 0,
      "outputs": []
    },
    {
      "cell_type": "code",
      "metadata": {
        "id": "QAswNiTaHuhT",
        "colab_type": "code",
        "outputId": "3c56b87c-1115-4646-c3e2-a39689239c36",
        "colab": {
          "base_uri": "https://localhost:8080/",
          "height": 224
        }
      },
      "source": [
        "df = pd.read_csv('creditcard.csv' , low_memory=False)\n",
        "df = df.sample(frac=1).reset_index(drop=True) \n",
        "# Shuffling the rows in place. Here, specifying drop=True prevents .reset_index from creating a column containing the old index entries.\n",
        "df.head()"
      ],
      "execution_count": 7,
      "outputs": [
        {
          "output_type": "execute_result",
          "data": {
            "text/html": [
              "<div>\n",
              "<style scoped>\n",
              "    .dataframe tbody tr th:only-of-type {\n",
              "        vertical-align: middle;\n",
              "    }\n",
              "\n",
              "    .dataframe tbody tr th {\n",
              "        vertical-align: top;\n",
              "    }\n",
              "\n",
              "    .dataframe thead th {\n",
              "        text-align: right;\n",
              "    }\n",
              "</style>\n",
              "<table border=\"1\" class=\"dataframe\">\n",
              "  <thead>\n",
              "    <tr style=\"text-align: right;\">\n",
              "      <th></th>\n",
              "      <th>Time</th>\n",
              "      <th>V1</th>\n",
              "      <th>V2</th>\n",
              "      <th>V3</th>\n",
              "      <th>V4</th>\n",
              "      <th>V5</th>\n",
              "      <th>V6</th>\n",
              "      <th>V7</th>\n",
              "      <th>V8</th>\n",
              "      <th>V9</th>\n",
              "      <th>V10</th>\n",
              "      <th>V11</th>\n",
              "      <th>V12</th>\n",
              "      <th>V13</th>\n",
              "      <th>V14</th>\n",
              "      <th>V15</th>\n",
              "      <th>V16</th>\n",
              "      <th>V17</th>\n",
              "      <th>V18</th>\n",
              "      <th>V19</th>\n",
              "      <th>V20</th>\n",
              "      <th>V21</th>\n",
              "      <th>V22</th>\n",
              "      <th>V23</th>\n",
              "      <th>V24</th>\n",
              "      <th>V25</th>\n",
              "      <th>V26</th>\n",
              "      <th>V27</th>\n",
              "      <th>V28</th>\n",
              "      <th>Amount</th>\n",
              "      <th>Class</th>\n",
              "    </tr>\n",
              "  </thead>\n",
              "  <tbody>\n",
              "    <tr>\n",
              "      <th>0</th>\n",
              "      <td>70475.0</td>\n",
              "      <td>1.235671</td>\n",
              "      <td>-0.010748</td>\n",
              "      <td>0.907062</td>\n",
              "      <td>1.072086</td>\n",
              "      <td>-0.580481</td>\n",
              "      <td>0.164288</td>\n",
              "      <td>-0.591185</td>\n",
              "      <td>0.140895</td>\n",
              "      <td>0.872865</td>\n",
              "      <td>-0.133540</td>\n",
              "      <td>-1.471356</td>\n",
              "      <td>-0.074363</td>\n",
              "      <td>-0.118437</td>\n",
              "      <td>-0.223571</td>\n",
              "      <td>0.723005</td>\n",
              "      <td>0.532035</td>\n",
              "      <td>-0.689783</td>\n",
              "      <td>0.388264</td>\n",
              "      <td>-0.043607</td>\n",
              "      <td>-0.138209</td>\n",
              "      <td>-0.069591</td>\n",
              "      <td>-0.047516</td>\n",
              "      <td>-0.098119</td>\n",
              "      <td>-0.471234</td>\n",
              "      <td>0.492457</td>\n",
              "      <td>-0.345823</td>\n",
              "      <td>0.067178</td>\n",
              "      <td>0.028419</td>\n",
              "      <td>1.00</td>\n",
              "      <td>0</td>\n",
              "    </tr>\n",
              "    <tr>\n",
              "      <th>1</th>\n",
              "      <td>77845.0</td>\n",
              "      <td>1.100857</td>\n",
              "      <td>0.234466</td>\n",
              "      <td>0.632567</td>\n",
              "      <td>1.523754</td>\n",
              "      <td>-0.355652</td>\n",
              "      <td>-0.469206</td>\n",
              "      <td>0.151873</td>\n",
              "      <td>-0.098894</td>\n",
              "      <td>0.134986</td>\n",
              "      <td>-0.154686</td>\n",
              "      <td>0.073355</td>\n",
              "      <td>1.121212</td>\n",
              "      <td>0.556978</td>\n",
              "      <td>-0.053958</td>\n",
              "      <td>-0.217486</td>\n",
              "      <td>-0.913714</td>\n",
              "      <td>0.413559</td>\n",
              "      <td>-1.245421</td>\n",
              "      <td>-0.578368</td>\n",
              "      <td>-0.129902</td>\n",
              "      <td>-0.049325</td>\n",
              "      <td>0.099258</td>\n",
              "      <td>-0.018355</td>\n",
              "      <td>0.636558</td>\n",
              "      <td>0.613066</td>\n",
              "      <td>-0.349295</td>\n",
              "      <td>0.043143</td>\n",
              "      <td>0.025400</td>\n",
              "      <td>22.26</td>\n",
              "      <td>0</td>\n",
              "    </tr>\n",
              "    <tr>\n",
              "      <th>2</th>\n",
              "      <td>133620.0</td>\n",
              "      <td>1.937535</td>\n",
              "      <td>0.582299</td>\n",
              "      <td>-2.917501</td>\n",
              "      <td>0.817224</td>\n",
              "      <td>0.889577</td>\n",
              "      <td>-1.870208</td>\n",
              "      <td>0.782782</td>\n",
              "      <td>-0.505901</td>\n",
              "      <td>0.408766</td>\n",
              "      <td>-1.523602</td>\n",
              "      <td>0.340996</td>\n",
              "      <td>0.071550</td>\n",
              "      <td>0.297241</td>\n",
              "      <td>-2.861470</td>\n",
              "      <td>0.724552</td>\n",
              "      <td>0.404660</td>\n",
              "      <td>2.268403</td>\n",
              "      <td>1.040198</td>\n",
              "      <td>-0.521830</td>\n",
              "      <td>-0.020837</td>\n",
              "      <td>-0.034256</td>\n",
              "      <td>0.033318</td>\n",
              "      <td>-0.097274</td>\n",
              "      <td>-0.339552</td>\n",
              "      <td>0.367557</td>\n",
              "      <td>-0.517699</td>\n",
              "      <td>0.028099</td>\n",
              "      <td>0.024572</td>\n",
              "      <td>61.60</td>\n",
              "      <td>0</td>\n",
              "    </tr>\n",
              "    <tr>\n",
              "      <th>3</th>\n",
              "      <td>160510.0</td>\n",
              "      <td>-0.264772</td>\n",
              "      <td>1.160995</td>\n",
              "      <td>-0.722729</td>\n",
              "      <td>-0.584521</td>\n",
              "      <td>0.536621</td>\n",
              "      <td>-0.556156</td>\n",
              "      <td>0.482343</td>\n",
              "      <td>0.520093</td>\n",
              "      <td>-0.378470</td>\n",
              "      <td>-0.883332</td>\n",
              "      <td>0.895373</td>\n",
              "      <td>0.402382</td>\n",
              "      <td>-0.767431</td>\n",
              "      <td>-0.346447</td>\n",
              "      <td>-0.860196</td>\n",
              "      <td>0.591747</td>\n",
              "      <td>0.425254</td>\n",
              "      <td>0.281448</td>\n",
              "      <td>-0.058788</td>\n",
              "      <td>-0.118486</td>\n",
              "      <td>-0.237398</td>\n",
              "      <td>-0.747180</td>\n",
              "      <td>0.189148</td>\n",
              "      <td>0.579325</td>\n",
              "      <td>-0.479137</td>\n",
              "      <td>0.096986</td>\n",
              "      <td>0.088747</td>\n",
              "      <td>0.011643</td>\n",
              "      <td>12.28</td>\n",
              "      <td>0</td>\n",
              "    </tr>\n",
              "    <tr>\n",
              "      <th>4</th>\n",
              "      <td>145525.0</td>\n",
              "      <td>0.211637</td>\n",
              "      <td>2.112439</td>\n",
              "      <td>-1.023392</td>\n",
              "      <td>4.833775</td>\n",
              "      <td>0.816122</td>\n",
              "      <td>0.172796</td>\n",
              "      <td>0.152327</td>\n",
              "      <td>0.665793</td>\n",
              "      <td>-2.016308</td>\n",
              "      <td>0.703192</td>\n",
              "      <td>0.843026</td>\n",
              "      <td>-1.096767</td>\n",
              "      <td>-1.493292</td>\n",
              "      <td>-1.703262</td>\n",
              "      <td>0.109402</td>\n",
              "      <td>1.079077</td>\n",
              "      <td>2.276070</td>\n",
              "      <td>1.563914</td>\n",
              "      <td>1.107155</td>\n",
              "      <td>0.111802</td>\n",
              "      <td>-0.344407</td>\n",
              "      <td>-1.008312</td>\n",
              "      <td>0.197925</td>\n",
              "      <td>-0.736225</td>\n",
              "      <td>-0.749180</td>\n",
              "      <td>0.061827</td>\n",
              "      <td>0.173362</td>\n",
              "      <td>-0.000103</td>\n",
              "      <td>5.73</td>\n",
              "      <td>0</td>\n",
              "    </tr>\n",
              "  </tbody>\n",
              "</table>\n",
              "</div>"
            ],
            "text/plain": [
              "       Time        V1        V2        V3  ...       V27       V28  Amount  Class\n",
              "0   70475.0  1.235671 -0.010748  0.907062  ...  0.067178  0.028419    1.00      0\n",
              "1   77845.0  1.100857  0.234466  0.632567  ...  0.043143  0.025400   22.26      0\n",
              "2  133620.0  1.937535  0.582299 -2.917501  ...  0.028099  0.024572   61.60      0\n",
              "3  160510.0 -0.264772  1.160995 -0.722729  ...  0.088747  0.011643   12.28      0\n",
              "4  145525.0  0.211637  2.112439 -1.023392  ...  0.173362 -0.000103    5.73      0\n",
              "\n",
              "[5 rows x 31 columns]"
            ]
          },
          "metadata": {
            "tags": []
          },
          "execution_count": 7
        }
      ]
    },
    {
      "cell_type": "markdown",
      "metadata": {
        "id": "gZnOD4twHoxr",
        "colab_type": "text"
      },
      "source": [
        "Kaggle has anonymised most data. Only the time of the transaction and the amounts are visible. Class is a categorical variable and is 1 for Fraudulent transaction and 0 for Non-fraudulent transaction. "
      ]
    },
    {
      "cell_type": "code",
      "metadata": {
        "id": "KaR4pOEKFpQG",
        "colab_type": "code",
        "colab": {
          "base_uri": "https://localhost:8080/",
          "height": 561
        },
        "outputId": "2ebe2a76-ed2f-422b-e0d1-5797e6560e6c"
      },
      "source": [
        "print(df.isnull().sum())\n",
        "# There are no missing values"
      ],
      "execution_count": 8,
      "outputs": [
        {
          "output_type": "stream",
          "text": [
            "Time      0\n",
            "V1        0\n",
            "V2        0\n",
            "V3        0\n",
            "V4        0\n",
            "V5        0\n",
            "V6        0\n",
            "V7        0\n",
            "V8        0\n",
            "V9        0\n",
            "V10       0\n",
            "V11       0\n",
            "V12       0\n",
            "V13       0\n",
            "V14       0\n",
            "V15       0\n",
            "V16       0\n",
            "V17       0\n",
            "V18       0\n",
            "V19       0\n",
            "V20       0\n",
            "V21       0\n",
            "V22       0\n",
            "V23       0\n",
            "V24       0\n",
            "V25       0\n",
            "V26       0\n",
            "V27       0\n",
            "V28       0\n",
            "Amount    0\n",
            "Class     0\n",
            "dtype: int64\n"
          ],
          "name": "stdout"
        }
      ]
    },
    {
      "cell_type": "code",
      "metadata": {
        "id": "xgTbuCUvE5JJ",
        "colab_type": "code",
        "colab": {
          "base_uri": "https://localhost:8080/",
          "height": 317
        },
        "outputId": "f81db852-bce1-43c9-975b-18e5a527a037"
      },
      "source": [
        "df.describe()\n",
        "# some basic statistical information of the data columns such as mean, standard deviation and range"
      ],
      "execution_count": 9,
      "outputs": [
        {
          "output_type": "execute_result",
          "data": {
            "text/html": [
              "<div>\n",
              "<style scoped>\n",
              "    .dataframe tbody tr th:only-of-type {\n",
              "        vertical-align: middle;\n",
              "    }\n",
              "\n",
              "    .dataframe tbody tr th {\n",
              "        vertical-align: top;\n",
              "    }\n",
              "\n",
              "    .dataframe thead th {\n",
              "        text-align: right;\n",
              "    }\n",
              "</style>\n",
              "<table border=\"1\" class=\"dataframe\">\n",
              "  <thead>\n",
              "    <tr style=\"text-align: right;\">\n",
              "      <th></th>\n",
              "      <th>Time</th>\n",
              "      <th>V1</th>\n",
              "      <th>V2</th>\n",
              "      <th>V3</th>\n",
              "      <th>V4</th>\n",
              "      <th>V5</th>\n",
              "      <th>V6</th>\n",
              "      <th>V7</th>\n",
              "      <th>V8</th>\n",
              "      <th>V9</th>\n",
              "      <th>V10</th>\n",
              "      <th>V11</th>\n",
              "      <th>V12</th>\n",
              "      <th>V13</th>\n",
              "      <th>V14</th>\n",
              "      <th>V15</th>\n",
              "      <th>V16</th>\n",
              "      <th>V17</th>\n",
              "      <th>V18</th>\n",
              "      <th>V19</th>\n",
              "      <th>V20</th>\n",
              "      <th>V21</th>\n",
              "      <th>V22</th>\n",
              "      <th>V23</th>\n",
              "      <th>V24</th>\n",
              "      <th>V25</th>\n",
              "      <th>V26</th>\n",
              "      <th>V27</th>\n",
              "      <th>V28</th>\n",
              "      <th>Amount</th>\n",
              "      <th>Class</th>\n",
              "    </tr>\n",
              "  </thead>\n",
              "  <tbody>\n",
              "    <tr>\n",
              "      <th>count</th>\n",
              "      <td>284807.000000</td>\n",
              "      <td>2.848070e+05</td>\n",
              "      <td>2.848070e+05</td>\n",
              "      <td>2.848070e+05</td>\n",
              "      <td>2.848070e+05</td>\n",
              "      <td>2.848070e+05</td>\n",
              "      <td>2.848070e+05</td>\n",
              "      <td>2.848070e+05</td>\n",
              "      <td>2.848070e+05</td>\n",
              "      <td>2.848070e+05</td>\n",
              "      <td>2.848070e+05</td>\n",
              "      <td>2.848070e+05</td>\n",
              "      <td>2.848070e+05</td>\n",
              "      <td>2.848070e+05</td>\n",
              "      <td>2.848070e+05</td>\n",
              "      <td>2.848070e+05</td>\n",
              "      <td>2.848070e+05</td>\n",
              "      <td>2.848070e+05</td>\n",
              "      <td>2.848070e+05</td>\n",
              "      <td>2.848070e+05</td>\n",
              "      <td>2.848070e+05</td>\n",
              "      <td>2.848070e+05</td>\n",
              "      <td>2.848070e+05</td>\n",
              "      <td>2.848070e+05</td>\n",
              "      <td>2.848070e+05</td>\n",
              "      <td>2.848070e+05</td>\n",
              "      <td>2.848070e+05</td>\n",
              "      <td>2.848070e+05</td>\n",
              "      <td>2.848070e+05</td>\n",
              "      <td>284807.000000</td>\n",
              "      <td>284807.000000</td>\n",
              "    </tr>\n",
              "    <tr>\n",
              "      <th>mean</th>\n",
              "      <td>94813.859575</td>\n",
              "      <td>1.207592e-15</td>\n",
              "      <td>3.701450e-16</td>\n",
              "      <td>-1.427476e-15</td>\n",
              "      <td>2.064137e-15</td>\n",
              "      <td>1.021897e-15</td>\n",
              "      <td>1.491768e-15</td>\n",
              "      <td>-5.702921e-16</td>\n",
              "      <td>1.163470e-16</td>\n",
              "      <td>-2.439518e-15</td>\n",
              "      <td>2.235950e-15</td>\n",
              "      <td>1.696114e-15</td>\n",
              "      <td>-1.264141e-15</td>\n",
              "      <td>8.437667e-16</td>\n",
              "      <td>1.185085e-15</td>\n",
              "      <td>4.888855e-15</td>\n",
              "      <td>1.421282e-15</td>\n",
              "      <td>-3.816810e-16</td>\n",
              "      <td>9.544926e-16</td>\n",
              "      <td>1.054907e-15</td>\n",
              "      <td>6.400247e-16</td>\n",
              "      <td>1.528792e-16</td>\n",
              "      <td>-3.433479e-16</td>\n",
              "      <td>2.704445e-16</td>\n",
              "      <td>4.487358e-15</td>\n",
              "      <td>5.268954e-16</td>\n",
              "      <td>1.683583e-15</td>\n",
              "      <td>-3.720191e-16</td>\n",
              "      <td>-1.270469e-16</td>\n",
              "      <td>88.349619</td>\n",
              "      <td>0.001727</td>\n",
              "    </tr>\n",
              "    <tr>\n",
              "      <th>std</th>\n",
              "      <td>47488.145955</td>\n",
              "      <td>1.958696e+00</td>\n",
              "      <td>1.651309e+00</td>\n",
              "      <td>1.516255e+00</td>\n",
              "      <td>1.415869e+00</td>\n",
              "      <td>1.380247e+00</td>\n",
              "      <td>1.332271e+00</td>\n",
              "      <td>1.237094e+00</td>\n",
              "      <td>1.194353e+00</td>\n",
              "      <td>1.098632e+00</td>\n",
              "      <td>1.088850e+00</td>\n",
              "      <td>1.020713e+00</td>\n",
              "      <td>9.992014e-01</td>\n",
              "      <td>9.952742e-01</td>\n",
              "      <td>9.585956e-01</td>\n",
              "      <td>9.153160e-01</td>\n",
              "      <td>8.762529e-01</td>\n",
              "      <td>8.493371e-01</td>\n",
              "      <td>8.381762e-01</td>\n",
              "      <td>8.140405e-01</td>\n",
              "      <td>7.709250e-01</td>\n",
              "      <td>7.345240e-01</td>\n",
              "      <td>7.257016e-01</td>\n",
              "      <td>6.244603e-01</td>\n",
              "      <td>6.056471e-01</td>\n",
              "      <td>5.212781e-01</td>\n",
              "      <td>4.822270e-01</td>\n",
              "      <td>4.036325e-01</td>\n",
              "      <td>3.300833e-01</td>\n",
              "      <td>250.120109</td>\n",
              "      <td>0.041527</td>\n",
              "    </tr>\n",
              "    <tr>\n",
              "      <th>min</th>\n",
              "      <td>0.000000</td>\n",
              "      <td>-5.640751e+01</td>\n",
              "      <td>-7.271573e+01</td>\n",
              "      <td>-4.832559e+01</td>\n",
              "      <td>-5.683171e+00</td>\n",
              "      <td>-1.137433e+02</td>\n",
              "      <td>-2.616051e+01</td>\n",
              "      <td>-4.355724e+01</td>\n",
              "      <td>-7.321672e+01</td>\n",
              "      <td>-1.343407e+01</td>\n",
              "      <td>-2.458826e+01</td>\n",
              "      <td>-4.797473e+00</td>\n",
              "      <td>-1.868371e+01</td>\n",
              "      <td>-5.791881e+00</td>\n",
              "      <td>-1.921433e+01</td>\n",
              "      <td>-4.498945e+00</td>\n",
              "      <td>-1.412985e+01</td>\n",
              "      <td>-2.516280e+01</td>\n",
              "      <td>-9.498746e+00</td>\n",
              "      <td>-7.213527e+00</td>\n",
              "      <td>-5.449772e+01</td>\n",
              "      <td>-3.483038e+01</td>\n",
              "      <td>-1.093314e+01</td>\n",
              "      <td>-4.480774e+01</td>\n",
              "      <td>-2.836627e+00</td>\n",
              "      <td>-1.029540e+01</td>\n",
              "      <td>-2.604551e+00</td>\n",
              "      <td>-2.256568e+01</td>\n",
              "      <td>-1.543008e+01</td>\n",
              "      <td>0.000000</td>\n",
              "      <td>0.000000</td>\n",
              "    </tr>\n",
              "    <tr>\n",
              "      <th>25%</th>\n",
              "      <td>54201.500000</td>\n",
              "      <td>-9.203734e-01</td>\n",
              "      <td>-5.985499e-01</td>\n",
              "      <td>-8.903648e-01</td>\n",
              "      <td>-8.486401e-01</td>\n",
              "      <td>-6.915971e-01</td>\n",
              "      <td>-7.682956e-01</td>\n",
              "      <td>-5.540759e-01</td>\n",
              "      <td>-2.086297e-01</td>\n",
              "      <td>-6.430976e-01</td>\n",
              "      <td>-5.354257e-01</td>\n",
              "      <td>-7.624942e-01</td>\n",
              "      <td>-4.055715e-01</td>\n",
              "      <td>-6.485393e-01</td>\n",
              "      <td>-4.255740e-01</td>\n",
              "      <td>-5.828843e-01</td>\n",
              "      <td>-4.680368e-01</td>\n",
              "      <td>-4.837483e-01</td>\n",
              "      <td>-4.988498e-01</td>\n",
              "      <td>-4.562989e-01</td>\n",
              "      <td>-2.117214e-01</td>\n",
              "      <td>-2.283949e-01</td>\n",
              "      <td>-5.423504e-01</td>\n",
              "      <td>-1.618463e-01</td>\n",
              "      <td>-3.545861e-01</td>\n",
              "      <td>-3.171451e-01</td>\n",
              "      <td>-3.269839e-01</td>\n",
              "      <td>-7.083953e-02</td>\n",
              "      <td>-5.295979e-02</td>\n",
              "      <td>5.600000</td>\n",
              "      <td>0.000000</td>\n",
              "    </tr>\n",
              "    <tr>\n",
              "      <th>50%</th>\n",
              "      <td>84692.000000</td>\n",
              "      <td>1.810880e-02</td>\n",
              "      <td>6.548556e-02</td>\n",
              "      <td>1.798463e-01</td>\n",
              "      <td>-1.984653e-02</td>\n",
              "      <td>-5.433583e-02</td>\n",
              "      <td>-2.741871e-01</td>\n",
              "      <td>4.010308e-02</td>\n",
              "      <td>2.235804e-02</td>\n",
              "      <td>-5.142873e-02</td>\n",
              "      <td>-9.291738e-02</td>\n",
              "      <td>-3.275735e-02</td>\n",
              "      <td>1.400326e-01</td>\n",
              "      <td>-1.356806e-02</td>\n",
              "      <td>5.060132e-02</td>\n",
              "      <td>4.807155e-02</td>\n",
              "      <td>6.641332e-02</td>\n",
              "      <td>-6.567575e-02</td>\n",
              "      <td>-3.636312e-03</td>\n",
              "      <td>3.734823e-03</td>\n",
              "      <td>-6.248109e-02</td>\n",
              "      <td>-2.945017e-02</td>\n",
              "      <td>6.781943e-03</td>\n",
              "      <td>-1.119293e-02</td>\n",
              "      <td>4.097606e-02</td>\n",
              "      <td>1.659350e-02</td>\n",
              "      <td>-5.213911e-02</td>\n",
              "      <td>1.342146e-03</td>\n",
              "      <td>1.124383e-02</td>\n",
              "      <td>22.000000</td>\n",
              "      <td>0.000000</td>\n",
              "    </tr>\n",
              "    <tr>\n",
              "      <th>75%</th>\n",
              "      <td>139320.500000</td>\n",
              "      <td>1.315642e+00</td>\n",
              "      <td>8.037239e-01</td>\n",
              "      <td>1.027196e+00</td>\n",
              "      <td>7.433413e-01</td>\n",
              "      <td>6.119264e-01</td>\n",
              "      <td>3.985649e-01</td>\n",
              "      <td>5.704361e-01</td>\n",
              "      <td>3.273459e-01</td>\n",
              "      <td>5.971390e-01</td>\n",
              "      <td>4.539234e-01</td>\n",
              "      <td>7.395934e-01</td>\n",
              "      <td>6.182380e-01</td>\n",
              "      <td>6.625050e-01</td>\n",
              "      <td>4.931498e-01</td>\n",
              "      <td>6.488208e-01</td>\n",
              "      <td>5.232963e-01</td>\n",
              "      <td>3.996750e-01</td>\n",
              "      <td>5.008067e-01</td>\n",
              "      <td>4.589494e-01</td>\n",
              "      <td>1.330408e-01</td>\n",
              "      <td>1.863772e-01</td>\n",
              "      <td>5.285536e-01</td>\n",
              "      <td>1.476421e-01</td>\n",
              "      <td>4.395266e-01</td>\n",
              "      <td>3.507156e-01</td>\n",
              "      <td>2.409522e-01</td>\n",
              "      <td>9.104512e-02</td>\n",
              "      <td>7.827995e-02</td>\n",
              "      <td>77.165000</td>\n",
              "      <td>0.000000</td>\n",
              "    </tr>\n",
              "    <tr>\n",
              "      <th>max</th>\n",
              "      <td>172792.000000</td>\n",
              "      <td>2.454930e+00</td>\n",
              "      <td>2.205773e+01</td>\n",
              "      <td>9.382558e+00</td>\n",
              "      <td>1.687534e+01</td>\n",
              "      <td>3.480167e+01</td>\n",
              "      <td>7.330163e+01</td>\n",
              "      <td>1.205895e+02</td>\n",
              "      <td>2.000721e+01</td>\n",
              "      <td>1.559499e+01</td>\n",
              "      <td>2.374514e+01</td>\n",
              "      <td>1.201891e+01</td>\n",
              "      <td>7.848392e+00</td>\n",
              "      <td>7.126883e+00</td>\n",
              "      <td>1.052677e+01</td>\n",
              "      <td>8.877742e+00</td>\n",
              "      <td>1.731511e+01</td>\n",
              "      <td>9.253526e+00</td>\n",
              "      <td>5.041069e+00</td>\n",
              "      <td>5.591971e+00</td>\n",
              "      <td>3.942090e+01</td>\n",
              "      <td>2.720284e+01</td>\n",
              "      <td>1.050309e+01</td>\n",
              "      <td>2.252841e+01</td>\n",
              "      <td>4.584549e+00</td>\n",
              "      <td>7.519589e+00</td>\n",
              "      <td>3.517346e+00</td>\n",
              "      <td>3.161220e+01</td>\n",
              "      <td>3.384781e+01</td>\n",
              "      <td>25691.160000</td>\n",
              "      <td>1.000000</td>\n",
              "    </tr>\n",
              "  </tbody>\n",
              "</table>\n",
              "</div>"
            ],
            "text/plain": [
              "                Time            V1  ...         Amount          Class\n",
              "count  284807.000000  2.848070e+05  ...  284807.000000  284807.000000\n",
              "mean    94813.859575  1.207592e-15  ...      88.349619       0.001727\n",
              "std     47488.145955  1.958696e+00  ...     250.120109       0.041527\n",
              "min         0.000000 -5.640751e+01  ...       0.000000       0.000000\n",
              "25%     54201.500000 -9.203734e-01  ...       5.600000       0.000000\n",
              "50%     84692.000000  1.810880e-02  ...      22.000000       0.000000\n",
              "75%    139320.500000  1.315642e+00  ...      77.165000       0.000000\n",
              "max    172792.000000  2.454930e+00  ...   25691.160000       1.000000\n",
              "\n",
              "[8 rows x 31 columns]"
            ]
          },
          "metadata": {
            "tags": []
          },
          "execution_count": 9
        }
      ]
    },
    {
      "cell_type": "code",
      "metadata": {
        "id": "tXVx0fbaNiZk",
        "colab_type": "code",
        "colab": {
          "base_uri": "https://localhost:8080/",
          "height": 85
        },
        "outputId": "a350fb1c-790c-45ca-e499-26e583bcb4e6"
      },
      "source": [
        "fraud = df.loc[df['Class']==1] \n",
        "non_fraud = df.loc[df['Class']==0] \n",
        "print('No Frauds' , len(non_fraud))\n",
        "print('No Frauds', round(df['Class'].value_counts()[0]/len(df) * 100,2), '% of the dataset')\n",
        "print('Frauds' , len(fraud))\n",
        "print('Frauds', round(df['Class'].value_counts()[1]/len(df) * 100,2), '% of the dataset')\n",
        "# There are far fewer fraudulent transactions when compared to non-fraudulent transactions\n",
        "# The classes are heavily skewed"
      ],
      "execution_count": 10,
      "outputs": [
        {
          "output_type": "stream",
          "text": [
            "No Frauds 284315\n",
            "No Frauds 99.83 % of the dataset\n",
            "Frauds 492\n",
            "Frauds 0.17 % of the dataset\n"
          ],
          "name": "stdout"
        }
      ]
    },
    {
      "cell_type": "code",
      "metadata": {
        "id": "qTfaRW2yOSQH",
        "colab_type": "code",
        "colab": {
          "base_uri": "https://localhost:8080/",
          "height": 283
        },
        "outputId": "98b2fb59-17db-4309-c0b5-de2768c9d7a6"
      },
      "source": [
        "ax = fraud.plot.scatter(x='Amount' , y='Class' , c='Orange' , label='Fraud')\n",
        "non_fraud.plot.scatter(x='Amount' , y='Class' , c='Blue' , label='Normal' , ax=ax)\n",
        "plt.show()\n",
        "# Data Exploration shows that fraudulent transactions were of lower amounts"
      ],
      "execution_count": 11,
      "outputs": [
        {
          "output_type": "display_data",
          "data": {
            "image/png": "[encoded data removed]",
            "text/plain": [
              "<Figure size 432x288 with 1 Axes>"
            ]
          },
          "metadata": {
            "tags": []
          }
        }
      ]
    },
    {
      "cell_type": "code",
      "metadata": {
        "id": "2_hgWPiTJQt1",
        "colab_type": "code",
        "colab": {
          "base_uri": "https://localhost:8080/",
          "height": 330
        },
        "outputId": "f7c928b9-ec3c-4eb9-ee2c-8eb3b0b1d4fe"
      },
      "source": [
        "colors = [\"Red\", \"Blue\"]\n",
        "\n",
        "sns.countplot('Class', data=df, palette=colors)\n",
        "plt.title('Class Distributions \\n (0: No Fraud || 1: Fraud)', fontsize=14)\n",
        "# the fraudulent transactions are hardly visible in the histogram as they make up only 0.17% of total transactions"
      ],
      "execution_count": 12,
      "outputs": [
        {
          "output_type": "execute_result",
          "data": {
            "text/plain": [
              "Text(0.5, 1.0, 'Class Distributions \\n (0: No Fraud || 1: Fraud)')"
            ]
          },
          "metadata": {
            "tags": []
          },
          "execution_count": 12
        },
        {
          "output_type": "display_data",
          "data": {
            "image/png": "[encoded data removed]",
            "text/plain": [
              "<Figure size 432x288 with 1 Axes>"
            ]
          },
          "metadata": {
            "tags": []
          }
        }
      ]
    },
    {
      "cell_type": "markdown",
      "metadata": {
        "id": "D3rNayj5eFle",
        "colab_type": "text"
      },
      "source": [
        "## Correlation matrix\n",
        "\n",
        "To check if there is any strong correlation betweeen the parameters (lighter colour)"
      ]
    },
    {
      "cell_type": "code",
      "metadata": {
        "id": "XAU1U-7Td9bP",
        "colab_type": "code",
        "colab": {
          "base_uri": "https://localhost:8080/",
          "height": 587
        },
        "outputId": "ccf35603-d9cc-4bda-82c9-2eb1aa6847b2"
      },
      "source": [
        "corr = df.corr()\n",
        "fig = plt.figure(figsize = (12, 9))\n",
        "sns.heatmap(corr, vmax = 0.5, square = True)"
      ],
      "execution_count": 13,
      "outputs": [
        {
          "output_type": "execute_result",
          "data": {
            "text/plain": [
              "<matplotlib.axes._subplots.AxesSubplot at 0x7f9f1ba86c88>"
            ]
          },
          "metadata": {
            "tags": []
          },
          "execution_count": 13
        },
        {
          "output_type": "display_data",
          "data": {
            "image/png": "[encoded data removed]",
            "text/plain": [
              "<Figure size 864x648 with 2 Axes>"
            ]
          },
          "metadata": {
            "tags": []
          }
        }
      ]
    },
    {
      "cell_type": "markdown",
      "metadata": {
        "id": "ONS3B0sLVVlO",
        "colab_type": "text"
      },
      "source": [
        "# Machine Learning\n",
        "\n",
        "## Logistic Regression"
      ]
    },
    {
      "cell_type": "code",
      "metadata": {
        "id": "-vq8PmKUOh-Y",
        "colab_type": "code",
        "colab": {}
      },
      "source": [
        "from sklearn import linear_model\n",
        "from sklearn.model_selection import train_test_split"
      ],
      "execution_count": 0,
      "outputs": []
    },
    {
      "cell_type": "code",
      "metadata": {
        "id": "21GB66fhX7uL",
        "colab_type": "code",
        "colab": {}
      },
      "source": [
        "x = df.iloc[: , :-1]\n",
        "y = df['Class']\n",
        "\n",
        "x_train, x_test, y_train, y_test = train_test_split(x, y, test_size=0.35)\n",
        "# split the sample into 65% train and 35% test\n"
      ],
      "execution_count": 0,
      "outputs": []
    },
    {
      "cell_type": "code",
      "metadata": {
        "id": "1NS2ZcdvwC2z",
        "colab_type": "code",
        "colab": {
          "base_uri": "https://localhost:8080/",
          "height": 88
        },
        "outputId": "1b87d70d-4ad8-4a72-ab35-42931d6be9f3"
      },
      "source": [
        "logistic = linear_model.LogisticRegression(C=1e5)\n",
        "# 1e5 means 10 to the power of (exponent) 5 = 100000 (1 followed by 5 zeros)\n",
        "logistic.fit(x_train, y_train)\n",
        "print('score', logistic.score(x_test, y_test))"
      ],
      "execution_count": 16,
      "outputs": [
        {
          "output_type": "stream",
          "text": [
            "/usr/local/lib/python3.6/dist-packages/sklearn/linear_model/logistic.py:432: FutureWarning: Default solver will be changed to 'lbfgs' in 0.22. Specify a solver to silence this warning.\n",
            "  FutureWarning)\n"
          ],
          "name": "stderr"
        },
        {
          "output_type": "stream",
          "text": [
            "score 0.9992476149393578\n"
          ],
          "name": "stdout"
        }
      ]
    },
    {
      "cell_type": "code",
      "metadata": {
        "id": "G08OJLsO2zsq",
        "colab_type": "code",
        "colab": {}
      },
      "source": [
        "x = df.iloc[: , :-1]\n",
        "y = df['Class']\n",
        "\n",
        "x_train, x_test, y_train, y_test = train_test_split(x, y, test_size=0.5)\n",
        "# split the sample down the middle 50%\n"
      ],
      "execution_count": 0,
      "outputs": []
    },
    {
      "cell_type": "code",
      "metadata": {
        "id": "dAGbYxEd20El",
        "colab_type": "code",
        "colab": {
          "base_uri": "https://localhost:8080/",
          "height": 88
        },
        "outputId": "27f7afea-bbc8-42f0-9cbe-6ebd6ffc5efd"
      },
      "source": [
        "logistic = linear_model.LogisticRegression(C=1e5)\n",
        "# 1e5 means 10 to the power of (exponent) 5 = 100000 (1 followed by 5 zeros)\n",
        "logistic.fit(x_train, y_train)\n",
        "print('score', logistic.score(x_test, y_test))"
      ],
      "execution_count": 18,
      "outputs": [
        {
          "output_type": "stream",
          "text": [
            "/usr/local/lib/python3.6/dist-packages/sklearn/linear_model/logistic.py:432: FutureWarning: Default solver will be changed to 'lbfgs' in 0.22. Specify a solver to silence this warning.\n",
            "  FutureWarning)\n"
          ],
          "name": "stderr"
        },
        {
          "output_type": "stream",
          "text": [
            "score 0.9989677256256847\n"
          ],
          "name": "stdout"
        }
      ]
    },
    {
      "cell_type": "code",
      "metadata": {
        "id": "FcdK9jEd3OHj",
        "colab_type": "code",
        "colab": {}
      },
      "source": [
        "x = df.iloc[: , :-1]\n",
        "y = df['Class']\n",
        "\n",
        "x_train, x_test, y_train, y_test = train_test_split(x, y, test_size=0.8)\n",
        "# split the sample into 20% train and 80% test\n"
      ],
      "execution_count": 0,
      "outputs": []
    },
    {
      "cell_type": "code",
      "metadata": {
        "id": "h7KFRi_53Ox_",
        "colab_type": "code",
        "colab": {
          "base_uri": "https://localhost:8080/",
          "height": 88
        },
        "outputId": "458e2633-83b1-4650-9837-89d5f4ee1bbd"
      },
      "source": [
        "logistic = linear_model.LogisticRegression(C=1e5)\n",
        "# 1e5 means 10 to the power of (exponent) 5 = 100000 (1 followed by 5 zeros)\n",
        "logistic.fit(x_train, y_train)\n",
        "print('score', logistic.score(x_test, y_test))"
      ],
      "execution_count": 20,
      "outputs": [
        {
          "output_type": "stream",
          "text": [
            "/usr/local/lib/python3.6/dist-packages/sklearn/linear_model/logistic.py:432: FutureWarning: Default solver will be changed to 'lbfgs' in 0.22. Specify a solver to silence this warning.\n",
            "  FutureWarning)\n"
          ],
          "name": "stderr"
        },
        {
          "output_type": "stream",
          "text": [
            "score 0.9990256576810653\n"
          ],
          "name": "stdout"
        }
      ]
    },
    {
      "cell_type": "markdown",
      "metadata": {
        "id": "27DoD54R35kD",
        "colab_type": "text"
      },
      "source": [
        ""
      ]
    },
    {
      "cell_type": "markdown",
      "metadata": {
        "id": "DeO6eJzN3ryE",
        "colab_type": "text"
      },
      "source": [
        "Changing the Train Test ratios in the data sample did not change the logistic score significantly"
      ]
    },
    {
      "cell_type": "code",
      "metadata": {
        "id": "b0-EHPaUNYpS",
        "colab_type": "code",
        "colab": {
          "base_uri": "https://localhost:8080/",
          "height": 187
        },
        "outputId": "b80d0333-1182-46b8-83fd-60f4da403859"
      },
      "source": [
        "y_predicted = np.array(logistic.predict(x_test))\n",
        "print(y_predicted)\n",
        "\n",
        "# Print the classification report \n",
        "from sklearn.metrics import classification_report\n",
        "print(classification_report(y_test, y_predicted))"
      ],
      "execution_count": 21,
      "outputs": [
        {
          "output_type": "stream",
          "text": [
            "[0 0 0 ... 0 0 0]\n",
            "              precision    recall  f1-score   support\n",
            "\n",
            "           0       1.00      1.00      1.00    227456\n",
            "           1       0.72      0.69      0.71       390\n",
            "\n",
            "    accuracy                           1.00    227846\n",
            "   macro avg       0.86      0.85      0.85    227846\n",
            "weighted avg       1.00      1.00      1.00    227846\n",
            "\n"
          ],
          "name": "stdout"
        }
      ]
    },
    {
      "cell_type": "markdown",
      "metadata": {
        "id": "maLthvWIYEcK",
        "colab_type": "text"
      },
      "source": [
        "Support shows poor results in detecting fraud"
      ]
    },
    {
      "cell_type": "markdown",
      "metadata": {
        "id": "XedUIBlucgV3",
        "colab_type": "text"
      },
      "source": [
        "## Confusion Matrix\n",
        "### Top Left - True Non-Fraud;   Top Right - False Non-Fraud; \n",
        "### Bottom Left - False Fraud;   Bottom Right - True Fraud\n",
        "https://en.wikipedia.org/wiki/Confusion_matrix"
      ]
    },
    {
      "cell_type": "code",
      "metadata": {
        "id": "jNtdP7QWYNO9",
        "colab_type": "code",
        "colab": {
          "base_uri": "https://localhost:8080/",
          "height": 51
        },
        "outputId": "ce60dceb-8db3-43b7-d52a-da0f0fa8988e"
      },
      "source": [
        "# Metrics\n",
        "from sklearn.metrics import confusion_matrix, classification_report\n",
        "from sklearn.metrics import confusion_matrix\n",
        "\n",
        "print(confusion_matrix(y_test, y_predicted.round()))"
      ],
      "execution_count": 22,
      "outputs": [
        {
          "output_type": "stream",
          "text": [
            "[[227353    103]\n",
            " [   119    271]]\n"
          ],
          "name": "stdout"
        }
      ]
    },
    {
      "cell_type": "markdown",
      "metadata": {
        "id": "wWyRlwadew2S",
        "colab_type": "text"
      },
      "source": [
        "## Random Forest\n",
        "\n",
        "https://medium.com/@williamkoehrsen/random-forest-simple-explanation-377895a60d2d"
      ]
    },
    {
      "cell_type": "code",
      "metadata": {
        "id": "_mCn3oWlhD8H",
        "colab_type": "code",
        "colab": {}
      },
      "source": [
        "x = df.iloc[: , :-1]\n",
        "y = df['Class']\n",
        "\n",
        "x_train, x_test, y_train, y_test = train_test_split(x, y, test_size=0.35)"
      ],
      "execution_count": 0,
      "outputs": []
    },
    {
      "cell_type": "code",
      "metadata": {
        "id": "7AuITB2cfbju",
        "colab_type": "code",
        "colab": {}
      },
      "source": [
        "from sklearn.ensemble import RandomForestClassifier\n",
        "# train model\n",
        "rfc = RandomForestClassifier(n_estimators=100).fit(x_train, y_train)\n",
        "# predict on test set\n",
        "rfc_pred = rfc.predict(x_test)"
      ],
      "execution_count": 0,
      "outputs": []
    },
    {
      "cell_type": "code",
      "metadata": {
        "id": "7GCyeSoggiJQ",
        "colab_type": "code",
        "colab": {
          "base_uri": "https://localhost:8080/",
          "height": 51
        },
        "outputId": "b8de9e0d-fcf2-45e7-b64e-f223175371ef"
      },
      "source": [
        "print(confusion_matrix(y_test, rfc_pred.round()))"
      ],
      "execution_count": 25,
      "outputs": [
        {
          "output_type": "stream",
          "text": [
            "[[99507     9]\n",
            " [   31   136]]\n"
          ],
          "name": "stdout"
        }
      ]
    },
    {
      "cell_type": "markdown",
      "metadata": {
        "id": "ZBFVCRYIlu2C",
        "colab_type": "text"
      },
      "source": [
        "## Random Under-sampling\n",
        "\n",
        "Here we will implement \"Random Under Sampling\" which basically consists of removing data in order to have a more balanced dataset and thus avoiding our models to overfitting.\n",
        "\n",
        "Steps:\n",
        "The first thing we have to do is determine how imbalanced is our class (use \"value_counts()\" on the class column to determine the amount for each label)\n",
        "Once we determine how many instances are considered fraud transactions (Fraud = \"1\") , we should bring the non-fraud transactions to the same amount as fraud transactions (assuming we want a 50/50 ratio), this will be equivalent to 492 cases of fraud and 492 cases of non-fraud transactions.\n",
        "After implementing this technique, we have a sub-sample of our dataframe with a 50/50 ratio with regards to our classes. Then the next step we will implement is to shuffle the data to see if our models can maintain a certain accuracy everytime we run this script.\n",
        "Note: The main issue with \"Random Under-Sampling\" is that we run the risk that our classification models will not perform as accurate as we would like to since there is a great deal of information loss (bringing 492 non-fraud transaction from 284,315 non-fraud transaction)"
      ]
    },
    {
      "cell_type": "code",
      "metadata": {
        "id": "1r5Cl_l1lcFZ",
        "colab_type": "code",
        "colab": {
          "base_uri": "https://localhost:8080/",
          "height": 224
        },
        "outputId": "1d0613c4-f0ce-4807-a2d6-2b0aec06e7c3"
      },
      "source": [
        "# Since our classes are highly skewed we should make them equivalent in order to have a normal distribution of the classes.\n",
        "\n",
        "# Lets shuffle the data before creating the subsamples\n",
        "\n",
        "df = df.sample(frac=1)\n",
        "\n",
        "# amount of fraud classes 492 rows.\n",
        "fraud_df = df.loc[df['Class'] == 1]\n",
        "non_fraud_df = df.loc[df['Class'] == 0][:492]\n",
        "\n",
        "normal_distributed_df = pd.concat([fraud_df, non_fraud_df])\n",
        "\n",
        "# Shuffle dataframe rows\n",
        "new_df = normal_distributed_df.sample(frac=1, random_state=42)\n",
        "\n",
        "new_df.head()"
      ],
      "execution_count": 30,
      "outputs": [
        {
          "output_type": "execute_result",
          "data": {
            "text/html": [
              "<div>\n",
              "<style scoped>\n",
              "    .dataframe tbody tr th:only-of-type {\n",
              "        vertical-align: middle;\n",
              "    }\n",
              "\n",
              "    .dataframe tbody tr th {\n",
              "        vertical-align: top;\n",
              "    }\n",
              "\n",
              "    .dataframe thead th {\n",
              "        text-align: right;\n",
              "    }\n",
              "</style>\n",
              "<table border=\"1\" class=\"dataframe\">\n",
              "  <thead>\n",
              "    <tr style=\"text-align: right;\">\n",
              "      <th></th>\n",
              "      <th>Time</th>\n",
              "      <th>V1</th>\n",
              "      <th>V2</th>\n",
              "      <th>V3</th>\n",
              "      <th>V4</th>\n",
              "      <th>V5</th>\n",
              "      <th>V6</th>\n",
              "      <th>V7</th>\n",
              "      <th>V8</th>\n",
              "      <th>V9</th>\n",
              "      <th>V10</th>\n",
              "      <th>V11</th>\n",
              "      <th>V12</th>\n",
              "      <th>V13</th>\n",
              "      <th>V14</th>\n",
              "      <th>V15</th>\n",
              "      <th>V16</th>\n",
              "      <th>V17</th>\n",
              "      <th>V18</th>\n",
              "      <th>V19</th>\n",
              "      <th>V20</th>\n",
              "      <th>V21</th>\n",
              "      <th>V22</th>\n",
              "      <th>V23</th>\n",
              "      <th>V24</th>\n",
              "      <th>V25</th>\n",
              "      <th>V26</th>\n",
              "      <th>V27</th>\n",
              "      <th>V28</th>\n",
              "      <th>Amount</th>\n",
              "      <th>Class</th>\n",
              "    </tr>\n",
              "  </thead>\n",
              "  <tbody>\n",
              "    <tr>\n",
              "      <th>89749</th>\n",
              "      <td>55911.0</td>\n",
              "      <td>0.314670</td>\n",
              "      <td>-2.522317</td>\n",
              "      <td>0.479031</td>\n",
              "      <td>-0.180306</td>\n",
              "      <td>-1.717166</td>\n",
              "      <td>0.823646</td>\n",
              "      <td>-0.658658</td>\n",
              "      <td>0.241921</td>\n",
              "      <td>-0.130593</td>\n",
              "      <td>0.281217</td>\n",
              "      <td>0.786864</td>\n",
              "      <td>0.326398</td>\n",
              "      <td>-0.137825</td>\n",
              "      <td>-0.551806</td>\n",
              "      <td>-1.016302</td>\n",
              "      <td>0.815114</td>\n",
              "      <td>0.627632</td>\n",
              "      <td>-1.259018</td>\n",
              "      <td>0.811589</td>\n",
              "      <td>1.039351</td>\n",
              "      <td>0.359417</td>\n",
              "      <td>0.067713</td>\n",
              "      <td>-0.453266</td>\n",
              "      <td>-0.246720</td>\n",
              "      <td>0.133500</td>\n",
              "      <td>-0.264453</td>\n",
              "      <td>-0.029507</td>\n",
              "      <td>0.094770</td>\n",
              "      <td>508.56</td>\n",
              "      <td>0</td>\n",
              "    </tr>\n",
              "    <tr>\n",
              "      <th>11468</th>\n",
              "      <td>84789.0</td>\n",
              "      <td>-1.430864</td>\n",
              "      <td>-0.802529</td>\n",
              "      <td>1.123320</td>\n",
              "      <td>0.389760</td>\n",
              "      <td>-0.281214</td>\n",
              "      <td>-0.055123</td>\n",
              "      <td>1.326232</td>\n",
              "      <td>0.195700</td>\n",
              "      <td>-0.546890</td>\n",
              "      <td>-0.713474</td>\n",
              "      <td>1.274629</td>\n",
              "      <td>0.023682</td>\n",
              "      <td>-1.521696</td>\n",
              "      <td>0.727242</td>\n",
              "      <td>0.166505</td>\n",
              "      <td>0.348038</td>\n",
              "      <td>-0.566390</td>\n",
              "      <td>0.216016</td>\n",
              "      <td>-1.140376</td>\n",
              "      <td>0.634184</td>\n",
              "      <td>0.325575</td>\n",
              "      <td>0.014002</td>\n",
              "      <td>0.844946</td>\n",
              "      <td>0.114963</td>\n",
              "      <td>0.156365</td>\n",
              "      <td>-0.619437</td>\n",
              "      <td>-0.120351</td>\n",
              "      <td>0.035594</td>\n",
              "      <td>354.33</td>\n",
              "      <td>1</td>\n",
              "    </tr>\n",
              "    <tr>\n",
              "      <th>155277</th>\n",
              "      <td>141650.0</td>\n",
              "      <td>1.964854</td>\n",
              "      <td>0.306862</td>\n",
              "      <td>-2.347355</td>\n",
              "      <td>1.144732</td>\n",
              "      <td>1.453977</td>\n",
              "      <td>-0.144400</td>\n",
              "      <td>0.871268</td>\n",
              "      <td>-0.209065</td>\n",
              "      <td>-0.308091</td>\n",
              "      <td>0.253584</td>\n",
              "      <td>-0.158279</td>\n",
              "      <td>0.444811</td>\n",
              "      <td>-0.257543</td>\n",
              "      <td>0.987935</td>\n",
              "      <td>0.462034</td>\n",
              "      <td>-1.817581</td>\n",
              "      <td>0.686020</td>\n",
              "      <td>-1.937979</td>\n",
              "      <td>-1.453749</td>\n",
              "      <td>-0.410936</td>\n",
              "      <td>0.392735</td>\n",
              "      <td>1.461507</td>\n",
              "      <td>-0.126488</td>\n",
              "      <td>-0.910153</td>\n",
              "      <td>0.646694</td>\n",
              "      <td>-0.101542</td>\n",
              "      <td>0.000524</td>\n",
              "      <td>-0.089904</td>\n",
              "      <td>1.00</td>\n",
              "      <td>0</td>\n",
              "    </tr>\n",
              "    <tr>\n",
              "      <th>155668</th>\n",
              "      <td>59011.0</td>\n",
              "      <td>-2.326922</td>\n",
              "      <td>-3.348439</td>\n",
              "      <td>-3.513408</td>\n",
              "      <td>3.175060</td>\n",
              "      <td>-2.815137</td>\n",
              "      <td>-0.203363</td>\n",
              "      <td>-0.892144</td>\n",
              "      <td>0.333226</td>\n",
              "      <td>-0.802005</td>\n",
              "      <td>-4.350685</td>\n",
              "      <td>3.064246</td>\n",
              "      <td>-2.718731</td>\n",
              "      <td>0.068788</td>\n",
              "      <td>-5.586873</td>\n",
              "      <td>-0.966076</td>\n",
              "      <td>-2.502049</td>\n",
              "      <td>-4.460495</td>\n",
              "      <td>-0.870526</td>\n",
              "      <td>0.595629</td>\n",
              "      <td>3.209171</td>\n",
              "      <td>1.226648</td>\n",
              "      <td>-0.695902</td>\n",
              "      <td>-1.478490</td>\n",
              "      <td>-0.061553</td>\n",
              "      <td>0.236155</td>\n",
              "      <td>0.531911</td>\n",
              "      <td>0.302324</td>\n",
              "      <td>0.536375</td>\n",
              "      <td>1389.56</td>\n",
              "      <td>1</td>\n",
              "    </tr>\n",
              "    <tr>\n",
              "      <th>213016</th>\n",
              "      <td>158638.0</td>\n",
              "      <td>-5.976119</td>\n",
              "      <td>-7.196980</td>\n",
              "      <td>-5.388316</td>\n",
              "      <td>5.104799</td>\n",
              "      <td>4.676533</td>\n",
              "      <td>-5.566870</td>\n",
              "      <td>-4.291180</td>\n",
              "      <td>0.876531</td>\n",
              "      <td>-1.075478</td>\n",
              "      <td>-3.272569</td>\n",
              "      <td>1.168216</td>\n",
              "      <td>-2.134732</td>\n",
              "      <td>1.128313</td>\n",
              "      <td>-4.566010</td>\n",
              "      <td>-0.126950</td>\n",
              "      <td>-2.826986</td>\n",
              "      <td>-2.865750</td>\n",
              "      <td>-0.912934</td>\n",
              "      <td>0.421144</td>\n",
              "      <td>3.136338</td>\n",
              "      <td>1.459369</td>\n",
              "      <td>-0.136262</td>\n",
              "      <td>0.848177</td>\n",
              "      <td>-0.269916</td>\n",
              "      <td>-1.095060</td>\n",
              "      <td>-0.710905</td>\n",
              "      <td>0.565846</td>\n",
              "      <td>-1.034107</td>\n",
              "      <td>296.00</td>\n",
              "      <td>1</td>\n",
              "    </tr>\n",
              "  </tbody>\n",
              "</table>\n",
              "</div>"
            ],
            "text/plain": [
              "            Time        V1        V2  ...       V28   Amount  Class\n",
              "89749    55911.0  0.314670 -2.522317  ...  0.094770   508.56      0\n",
              "11468    84789.0 -1.430864 -0.802529  ...  0.035594   354.33      1\n",
              "155277  141650.0  1.964854  0.306862  ... -0.089904     1.00      0\n",
              "155668   59011.0 -2.326922 -3.348439  ...  0.536375  1389.56      1\n",
              "213016  158638.0 -5.976119 -7.196980  ... -1.034107   296.00      1\n",
              "\n",
              "[5 rows x 31 columns]"
            ]
          },
          "metadata": {
            "tags": []
          },
          "execution_count": 30
        }
      ]
    },
    {
      "cell_type": "code",
      "metadata": {
        "id": "oNOVo4SZlpLf",
        "colab_type": "code",
        "colab": {
          "base_uri": "https://localhost:8080/",
          "height": 364
        },
        "outputId": "76d9c261-54cc-4b63-fd5c-a2efe6542ca5"
      },
      "source": [
        "print('Distribution of the Classes in the subsample dataset')\n",
        "print(new_df['Class'].value_counts()/len(new_df))\n",
        "\n",
        "\n",
        "\n",
        "sns.countplot('Class', data=new_df, palette=colors)\n",
        "plt.title('Equally Distributed Classes', fontsize=14)\n",
        "plt.show()"
      ],
      "execution_count": 32,
      "outputs": [
        {
          "output_type": "stream",
          "text": [
            "Distribution of the Classes in the subsample dataset\n",
            "1    0.5\n",
            "0    0.5\n",
            "Name: Class, dtype: float64\n"
          ],
          "name": "stdout"
        },
        {
          "output_type": "display_data",
          "data": {
            "image/png": "[encoded data removed]",
            "text/plain": [
              "<Figure size 432x288 with 1 Axes>"
            ]
          },
          "metadata": {
            "tags": []
          }
        }
      ]
    },
    {
      "cell_type": "code",
      "metadata": {
        "id": "HQpfCCT7k_Id",
        "colab_type": "code",
        "colab": {}
      },
      "source": [
        "# Undersampling before cross validating (prone to overfit)\n",
        "X = new_df.drop('Class', axis=1)\n",
        "y = new_df['Class']"
      ],
      "execution_count": 0,
      "outputs": []
    },
    {
      "cell_type": "code",
      "metadata": {
        "id": "nLxfBM1Ik_qN",
        "colab_type": "code",
        "colab": {
          "base_uri": "https://localhost:8080/",
          "height": 1000
        },
        "outputId": "4a115313-4f2c-4267-bff0-85fd0d1386e4"
      },
      "source": [
        "# Make sure we use the subsample in our correlation\n",
        "\n",
        "f, (ax1, ax2) = plt.subplots(2, 1, figsize=(24,20))\n",
        "\n",
        "# Entire DataFrame\n",
        "corr = df.corr()\n",
        "sns.heatmap(corr, cmap='coolwarm_r', annot_kws={'size':20}, ax=ax1)\n",
        "ax1.set_title(\"Imbalanced Correlation Matrix \\n (don't use for reference)\", fontsize=14)\n",
        "\n",
        "\n",
        "sub_sample_corr = new_df.corr()\n",
        "sns.heatmap(sub_sample_corr, cmap='coolwarm_r', annot_kws={'size':20}, ax=ax2)\n",
        "ax2.set_title('SubSample Correlation Matrix \\n (use for reference)', fontsize=14)\n",
        "plt.show()"
      ],
      "execution_count": 33,
      "outputs": [
        {
          "output_type": "display_data",
          "data": {
            "image/png": "[encoded data removed]",
            "text/plain": [
              "<Figure size 1728x1440 with 4 Axes>"
            ]
          },
          "metadata": {
            "tags": []
          }
        }
      ]
    },
    {
      "cell_type": "code",
      "metadata": {
        "id": "FXN7mi23k_6u",
        "colab_type": "code",
        "colab": {}
      },
      "source": [
        "# There is better correlation after Random Under-Sampling (Blue)"
      ],
      "execution_count": 0,
      "outputs": []
    }
  ]
}